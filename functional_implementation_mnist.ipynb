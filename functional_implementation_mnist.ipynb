{
  "nbformat": 4,
  "nbformat_minor": 0,
  "metadata": {
    "colab": {
      "name": "functional_implementation_mnist.ipynb",
      "version": "0.3.2",
      "views": {},
      "default_view": {},
      "provenance": [],
      "collapsed_sections": []
    },
    "kernelspec": {
      "name": "python2",
      "display_name": "Python 2"
    },
    "accelerator": "GPU"
  },
  "cells": [
    {
      "metadata": {
        "id": "mF--LSal1h7t",
        "colab_type": "code",
        "colab": {
          "autoexec": {
            "startup": false,
            "wait_interval": 0
          },
          "base_uri": "https://localhost:8080/",
          "height": 53
        },
        "outputId": "62aa41b7-84b6-4eb4-9d69-c0bd7d051227",
        "executionInfo": {
          "status": "ok",
          "timestamp": 1530436838739,
          "user_tz": -330,
          "elapsed": 1832,
          "user": {
            "displayName": "prashant dixit",
            "photoUrl": "https://lh3.googleusercontent.com/a/default-user=s128",
            "userId": "104620827032787505174"
          }
        }
      },
      "cell_type": "code",
      "source": [
        "from __future__ import print_function\n",
        "\n",
        "import keras\n",
        "from keras.datasets import mnist\n",
        "from keras.models import Model\n",
        "from keras.layers import Dense, Dropout, Flatten,Conv2D, MaxPooling2D, Input\n",
        "from keras.optimizers import RMSprop\n",
        "from keras.utils import plot_model\n",
        "from keras import regularizers\n",
        "\n",
        "batch_size = 128\n",
        "num_classes = 10\n",
        "epochs = 4\n",
        "\n",
        "# the data, split between train and test sets\n",
        "(x_train, y_train), (x_test, y_test) = mnist.load_data()\n",
        "\n",
        "x_train = x_train.reshape(60000, 28,28,1)\n",
        "x_test = x_test.reshape(10000, 28,28,1)\n",
        "x_train = x_train.astype('float32')\n",
        "x_test = x_test.astype('float32')\n",
        "x_train /= 255\n",
        "x_test /= 255\n",
        "print(x_train.shape[0], 'train samples')\n",
        "print(x_test.shape[0], 'test samples')\n"
      ],
      "execution_count": 40,
      "outputs": [
        {
          "output_type": "stream",
          "text": [
            "60000 train samples\n",
            "10000 test samples\n"
          ],
          "name": "stdout"
        }
      ]
    },
    {
      "metadata": {
        "id": "WdEORtbg1w89",
        "colab_type": "code",
        "colab": {
          "autoexec": {
            "startup": false,
            "wait_interval": 0
          }
        }
      },
      "cell_type": "code",
      "source": [
        "# convert class vectors to binary class matrices\n",
        "y_train = keras.utils.to_categorical(y_train, num_classes)\n",
        "y_test = keras.utils.to_categorical(y_test, num_classes)\n"
      ],
      "execution_count": 0,
      "outputs": []
    },
    {
      "metadata": {
        "id": "ao5RQwR3135Z",
        "colab_type": "code",
        "colab": {
          "autoexec": {
            "startup": false,
            "wait_interval": 0
          },
          "base_uri": "https://localhost:8080/",
          "height": 629
        },
        "outputId": "11693812-5174-47c2-e7ae-419dcca013f5",
        "executionInfo": {
          "status": "ok",
          "timestamp": 1530436843393,
          "user_tz": -330,
          "elapsed": 1197,
          "user": {
            "displayName": "prashant dixit",
            "photoUrl": "https://lh3.googleusercontent.com/a/default-user=s128",
            "userId": "104620827032787505174"
          }
        }
      },
      "cell_type": "code",
      "source": [
        "visible = Input(shape = (28,28,1))\n",
        "h1 = Conv2D(32,3,3, activation = 'relu')(visible)\n",
        "h2 = MaxPooling2D(pool_size=(2,2))(h1)\n",
        "h3 = Conv2D(64,3,3, activation = 'relu')(h2)\n",
        "h4 = MaxPooling2D(pool_size=(2,2))(h3)\n",
        "h5 = Flatten()(h4)\n",
        "                  \n",
        "h6 = Dense(512, activation='relu')(h5)\n",
        "h7 = Dropout(0.2)(h6)\n",
        "h8 = Dense(512, activation='relu')(h7)\n",
        "h9 = Dropout(0.2)(h8)\n",
        "h10 = Dense(10, activation = 'softmax')(h9)\n",
        "model = Model(inputs=visible, outputs=h10)\n",
        "print(model.summary())"
      ],
      "execution_count": 42,
      "outputs": [
        {
          "output_type": "stream",
          "text": [
            "_________________________________________________________________\n",
            "Layer (type)                 Output Shape              Param #   \n",
            "=================================================================\n",
            "input_22 (InputLayer)        (None, 28, 28, 1)         0         \n",
            "_________________________________________________________________\n",
            "conv2d_37 (Conv2D)           (None, 26, 26, 32)        320       \n",
            "_________________________________________________________________\n",
            "max_pooling2d_25 (MaxPooling (None, 13, 13, 32)        0         \n",
            "_________________________________________________________________\n",
            "conv2d_38 (Conv2D)           (None, 11, 11, 64)        18496     \n",
            "_________________________________________________________________\n",
            "max_pooling2d_26 (MaxPooling (None, 5, 5, 64)          0         \n",
            "_________________________________________________________________\n",
            "flatten_16 (Flatten)         (None, 1600)              0         \n",
            "_________________________________________________________________\n",
            "dense_47 (Dense)             (None, 512)               819712    \n",
            "_________________________________________________________________\n",
            "dropout_24 (Dropout)         (None, 512)               0         \n",
            "_________________________________________________________________\n",
            "dense_48 (Dense)             (None, 512)               262656    \n",
            "_________________________________________________________________\n",
            "dropout_25 (Dropout)         (None, 512)               0         \n",
            "_________________________________________________________________\n",
            "dense_49 (Dense)             (None, 10)                5130      \n",
            "=================================================================\n",
            "Total params: 1,106,314\n",
            "Trainable params: 1,106,314\n",
            "Non-trainable params: 0\n",
            "_________________________________________________________________\n",
            "None\n"
          ],
          "name": "stdout"
        },
        {
          "output_type": "stream",
          "text": [
            "/usr/local/lib/python2.7/dist-packages/ipykernel_launcher.py:2: UserWarning: Update your `Conv2D` call to the Keras 2 API: `Conv2D(32, (3, 3), activation=\"relu\")`\n",
            "  \n",
            "/usr/local/lib/python2.7/dist-packages/ipykernel_launcher.py:4: UserWarning: Update your `Conv2D` call to the Keras 2 API: `Conv2D(64, (3, 3), activation=\"relu\")`\n",
            "  after removing the cwd from sys.path.\n"
          ],
          "name": "stderr"
        }
      ]
    },
    {
      "metadata": {
        "id": "NmMeCxqB5MjT",
        "colab_type": "code",
        "colab": {
          "autoexec": {
            "startup": false,
            "wait_interval": 0
          },
          "base_uri": "https://localhost:8080/",
          "height": 235
        },
        "outputId": "d36fc804-8e2d-4762-c08e-ecbae22221c5",
        "executionInfo": {
          "status": "ok",
          "timestamp": 1530436884688,
          "user_tz": -330,
          "elapsed": 38740,
          "user": {
            "displayName": "prashant dixit",
            "photoUrl": "https://lh3.googleusercontent.com/a/default-user=s128",
            "userId": "104620827032787505174"
          }
        }
      },
      "cell_type": "code",
      "source": [
        "model.compile(loss='categorical_crossentropy',\n",
        "              optimizer=RMSprop(),\n",
        "              metrics=['accuracy'])\n",
        "\n",
        "history = model.fit(x_train, y_train,\n",
        "                    batch_size=batch_size,\n",
        "                    epochs=epochs,\n",
        "                    verbose=1,\n",
        "                    validation_data=(x_test, y_test))\n",
        "score = model.evaluate(x_test, y_test, verbose=0)\n",
        "print (score[0])\n",
        "print (score[1])"
      ],
      "execution_count": 43,
      "outputs": [
        {
          "output_type": "stream",
          "text": [
            "Train on 60000 samples, validate on 10000 samples\n",
            "Epoch 1/4\n",
            "60000/60000 [==============================] - 9s 158us/step - loss: 0.1738 - acc: 0.9443 - val_loss: 0.0507 - val_acc: 0.9837\n",
            "Epoch 2/4\n",
            "60000/60000 [==============================] - 9s 143us/step - loss: 0.0480 - acc: 0.9854 - val_loss: 0.0366 - val_acc: 0.9881\n",
            "Epoch 3/4\n",
            "31488/60000 [==============>...............] - ETA: 3s - loss: 0.0313 - acc: 0.9904"
          ],
          "name": "stdout"
        },
        {
          "output_type": "stream",
          "text": [
            "60000/60000 [==============================] - 9s 144us/step - loss: 0.0323 - acc: 0.9904 - val_loss: 0.0241 - val_acc: 0.9912\n",
            "Epoch 4/4\n",
            "60000/60000 [==============================] - 9s 146us/step - loss: 0.0240 - acc: 0.9930 - val_loss: 0.0262 - val_acc: 0.9921\n",
            "0.02623328251012681\n",
            "0.9921\n"
          ],
          "name": "stdout"
        }
      ]
    }
  ]
}